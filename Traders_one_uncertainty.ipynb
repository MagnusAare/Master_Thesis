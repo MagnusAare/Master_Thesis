{
 "cells": [
  {
   "cell_type": "code",
   "execution_count": 1,
   "metadata": {},
   "outputs": [
    {
     "name": "stdout",
     "output_type": "stream",
     "text": [
      "Number of training samples: 790\n",
      "Number of test samples: 198\n",
      "PW 1.0\n",
      "P_DIS_CH 0.25\n",
      "SOC_init 0.0\n",
      "SOC_cap 0.75\n",
      "Efficiency 0.9\n",
      "Max DA: 871.0\n"
     ]
    }
   ],
   "source": [
    "from Functions_thesis import *\n",
    "from Functions_plotting import *\n",
    "\n",
    "#Paramters for config:\n",
    "T = range(24)\n",
    "LT=len(T)\n",
    "eff = 0.9\n",
    "\n",
    "PW_cap=300 #MWh\n",
    "\n",
    "SOC_cap = 225 #MWh\n",
    "\n",
    "P_DIS_CH = 75 #MWh\n",
    "SOC_init = 0\n",
    "\n",
    "problem_parameters = {'PW_cap':PW_cap,'SOC_cap':SOC_cap,'P_DIS_CH':P_DIS_CH,'SOC_init':SOC_init,'eff':eff}\n",
    "\n",
    "n_var=4\n",
    "n_constraints=11\n",
    "\n",
    "variables = ['pCH','pDIS','pW','SOC']\n",
    "\n",
    "Target = ['DA_DK2','windpower']\n",
    "\n",
    "EQUAL1 = Traders_equality_one_uncertainty(\"Equality_one_uncertainty\", T, problem_parameters, n_var, n_constraints,variables,Target)\n",
    "\n",
    "reduced_features = ['DA_DE_Lag',\n",
    "                    'DA_DK1_Lag',\n",
    "                    'DA_DK2_Lag',\n",
    "                    'DA_DK2_Q25',\n",
    "                    'DA_DK2_Q50',\n",
    "                    'DA_DK2_Q75',\n",
    "                    'DA_DK2_mean',\n",
    "                    'DA_NO2_Lag',\n",
    "                    'ForecastDAOnshore_Wind_DK1',\n",
    "                    'ForecastDAOnshore_Wind_DK2',\n",
    "                    'RT_NO2_Lag',\n",
    "                    'Scheduled_Gen_DA_DK2',\n",
    "                    'max_wind_speed_10min_DK1',\n",
    "                    'max_wind_speed_10min_DK2',\n",
    "                    'max_wind_speed_3sec_DK1',\n",
    "                    'max_wind_speed_3sec_DK2',\n",
    "                    'mean_wind_speed_DK1',\n",
    "                    'mean_wind_speed_DK2']\n",
    "\n",
    "data, IDS, train_ID, test_ID, features, scaler = load_data('DataV4_shifted.pkl',EQUAL1,0.8,problem_parameters,False)"
   ]
  },
  {
   "cell_type": "code",
   "execution_count": 2,
   "metadata": {},
   "outputs": [
    {
     "name": "stdout",
     "output_type": "stream",
     "text": [
      "Set parameter Username\n"
     ]
    },
    {
     "name": "stdout",
     "output_type": "stream",
     "text": [
      "Academic license - for non-commercial use only - expires 2025-02-20\n",
      "dataset complete\n",
      "Features used: ['DA_DE_Lag', 'DA_DK1_Lag', 'DA_DK2_Lag', 'DA_DK2_Q25', 'DA_DK2_Q50', 'DA_DK2_Q75', 'DA_DK2_mean', 'DA_NO2_Lag', 'ForecastDAOnshore_Wind_DK1', 'ForecastDAOnshore_Wind_DK2', 'RT_NO2_Lag', 'Scheduled_Gen_DA_DK2', 'max_wind_speed_10min_DK1', 'max_wind_speed_10min_DK2', 'max_wind_speed_3sec_DK1', 'max_wind_speed_3sec_DK2', 'mean_wind_speed_DK1', 'mean_wind_speed_DK2']\n"
     ]
    }
   ],
   "source": [
    "dataset = dataset_creator(EQUAL1,data,IDS,reduced_features)\n",
    "\n",
    "extract_train_data(EQUAL1,train_ID)\n",
    "extract_test_data(EQUAL1,test_ID)"
   ]
  },
  {
   "cell_type": "markdown",
   "metadata": {},
   "source": [
    "Results from HPC - DA uncertain"
   ]
  },
  {
   "cell_type": "code",
   "execution_count": 3,
   "metadata": {},
   "outputs": [
    {
     "data": {
      "image/png": "[encoded data removed]",
      "text/plain": [
       "<Figure size 1000x400 with 1 Axes>"
      ]
     },
     "metadata": {},
     "output_type": "display_data"
    }
   ],
   "source": [
    "res = pd.read_pickle(\"Traders_Results_for_report\\\\tot_res_equal_da_uncertain.pkl\")\n",
    "gen_loss = res['gen_loss']\n",
    "w_prediction = res['w_prediction']\n",
    "prediction_spo = res['predictions_spo']\n",
    "prediction_seq = res['predictions_sequential']\n",
    "dual_prediction = res['dual_prediction']\n",
    "sample_loss = res['sample_loss']\n",
    "z_realised = res['z_realised']\n",
    "B = res['B']\n",
    "infeasibles = res['infeasibles']\n",
    "\n",
    "# Define a mapping of old keys to new keys\n",
    "key_mapping = {\n",
    "    'SPO - Ridge - 0.5': 'SPO',\n",
    "    'LR_seq': 'LR',\n",
    "    'Ridge_seq': 'Ridge',\n",
    "    'Lasso_seq': 'Lasso',\n",
    "    'DT_seq': 'DT',\n",
    "    'RF_seq': 'RF'\n",
    "}\n",
    "\n",
    "# Create a new dictionary with renamed keys\n",
    "sample_loss = {key_mapping.get(k, k): v for k, v in sample_loss.items()}\n",
    "infeasibles = {key_mapping.get(k, k): v for k, v in infeasibles.items()}\n",
    "\n",
    "boxplot_spo_loss(sample_loss,infeasibles,False,False,(10,4),0.4,\"Plots\\eq_DA_uncertain_gen_loss_no_outliers\")\n",
    "\n",
    "res2 = pd.read_pickle(\"Traders_Results_for_report\\\\ori_formulation_da_uncertain.pkl\")\n",
    "z_train = res2['z_train']\n",
    "z_test = res2['z_test']\n",
    "w_train = res2['w_train']\n",
    "w_test = res2['w_test']\n",
    "c_train = res2['c_train']\n",
    "c_test = res2['c_test']\n",
    "scaler = res2['scaler']\n",
    "DA_scaler = res2['DA_scaler']\n",
    "Base_scaler = res2['Base_scaler']"
   ]
  },
  {
   "cell_type": "code",
   "execution_count": 5,
   "metadata": {},
   "outputs": [
    {
     "data": {
      "text/plain": [
       "-854134.7569635583"
      ]
     },
     "execution_count": 5,
     "metadata": {},
     "output_type": "execute_result"
    }
   ],
   "source": [
    "np.mean(z_test*scaler)"
   ]
  },
  {
   "cell_type": "code",
   "execution_count": 22,
   "metadata": {},
   "outputs": [],
   "source": [
    "# EQUAL1 = Traders_equality_one_uncertainty(\n",
    "#     \"Equality_one_uncertainty_seq\", T, problem_parameters, n_var, n_constraints, variables, Target)\n",
    "\n",
    "# predictions_sequential, mse_sequential = sequential_models_v2(\n",
    "#     EQUAL1, ['windpower'], data, train_ID, test_ID, features, [0.5, 0.1])\n",
    "\n",
    "# # for model in prediction_seq.keys():\n",
    "# #     for i in range(len(test_ID)):\n",
    "# #         predictions_sequential[model]['windpower'][i] = np.array([max(0, x) for x in predictions_sequential[model]['windpower'][i]])    \n",
    "\n",
    "# b_test_seq = np.array([EQUAL1.Vector_b(\n",
    "#     predictions_sequential['LR_seq']['windpower'][i]) for i in range(len(test_ID))])\n",
    "# EQUAL1.b_test_seq = b_test_seq"
   ]
  },
  {
   "cell_type": "markdown",
   "metadata": {},
   "source": [
    "Results HPC - PW seq"
   ]
  },
  {
   "cell_type": "code",
   "execution_count": 6,
   "metadata": {},
   "outputs": [
    {
     "data": {
      "image/png": "[encoded data removed]",
      "text/plain": [
       "<Figure size 1000x400 with 1 Axes>"
      ]
     },
     "metadata": {},
     "output_type": "display_data"
    }
   ],
   "source": [
    "res = pd.read_pickle(\"Traders_Results_for_report\\\\tot_res_equal_pw_seq_ridge.pkl\")\n",
    "gen_loss = res['gen_loss']\n",
    "w_prediction = res['w_prediction']\n",
    "prediction_spo = res['predictions_spo']\n",
    "prediction_seq = res['predictions_sequential']\n",
    "dual_prediction = res['dual_prediction']\n",
    "sample_loss = res['sample_loss']\n",
    "z_realised = res['z_realised']\n",
    "B = res['B']\n",
    "infeasibles = res['infeasibles']\n",
    "\n",
    "# Define a mapping of old keys to new keys\n",
    "key_mapping = {\n",
    "    'SPO - Ridge - 0.5': 'SPO',\n",
    "    'LR_seq': 'LR',\n",
    "    'Ridge_seq': 'Ridge',\n",
    "    'Lasso_seq': 'Lasso',\n",
    "    'DT_seq': 'DT',\n",
    "    'RF_seq': 'RF'\n",
    "}\n",
    "\n",
    "# Create a new dictionary with renamed keys\n",
    "sample_loss = {key_mapping.get(k, k): v for k, v in sample_loss.items()}\n",
    "infeasibles = {key_mapping.get(k, k): v for k, v in infeasibles.items()}\n",
    "w_prediction = {key_mapping.get(k, k): v for k, v in w_prediction.items()}\n",
    "prediction_spo = {key_mapping.get(k, k): v for k, v in prediction_spo.items()}\n",
    "prediction_seq = {key_mapping.get(k, k): v for k, v in prediction_seq.items()}\n",
    "z_realised = {key_mapping.get(k, k): v for k, v in z_realised.items()}\n",
    "\n",
    "\n",
    "\n",
    "del sample_loss['Lasso']\n",
    "del infeasibles['Lasso'] \n",
    "del w_prediction['Target']\n",
    "del w_prediction['Lasso']\n",
    "\n",
    "#  Get the 'tab10' color palette\n",
    "tab10_palette = sns.color_palette(\"tab10\")\n",
    "# Remove the 4th color (which is red)\n",
    "updated_palette = tab10_palette[:3] + tab10_palette[4:]\n",
    "# Set the updated palette as the default\n",
    "sns.set_palette(updated_palette)\n",
    "# sns.palplot(sns.color_palette()) \n",
    "boxplot_spo_loss(sample_loss,infeasibles,False,True,(10,4),0.4,\"Plots\\eq_pw_seq_ridge\")\n",
    "\n",
    "res2 = pd.read_pickle(\"Traders_Results_for_report\\\\ori_formulation_pw_seq_ridge.pkl\")\n",
    "z_train = res2['z_train']\n",
    "z_test = res2['z_test']\n",
    "w_train = res2['w_train']\n",
    "w_test = res2['w_test']\n",
    "c_train = res2['c_train']\n",
    "c_test = res2['c_test']\n",
    "scaler = res2['scaler']\n",
    "DA_scaler = res2['DA_scaler']\n",
    "Base_scaler = res2['Base_scaler']\n",
    "\n",
    "\n",
    "gen_loss2={} #Without infeasible\n",
    "for model in sample_loss.keys():\n",
    "    loss = []\n",
    "    for i in range(len(test_ID)):\n",
    "        if infeasibles[model][i]==0:\n",
    "            loss.append(sample_loss[model][i])\n",
    "    gen_loss2[model]=np.mean(loss)"
   ]
  },
  {
   "cell_type": "code",
   "execution_count": 8,
   "metadata": {},
   "outputs": [
    {
     "data": {
      "text/plain": [
       "-731580.4030821052"
      ]
     },
     "execution_count": 8,
     "metadata": {},
     "output_type": "execute_result"
    }
   ],
   "source": [
    "np.mean(z_realised['SPO'])"
   ]
  },
  {
   "cell_type": "markdown",
   "metadata": {},
   "source": [
    "Stochastic formulation"
   ]
  },
  {
   "cell_type": "code",
   "execution_count": 24,
   "metadata": {},
   "outputs": [],
   "source": [
    "def stochastic_traders(config, train_ID, data):\n",
    "    DA_scenarios = []\n",
    "    PW_scenarios = []\n",
    "    BAL_scenarios = []\n",
    "    for i in range(len(train_ID)):\n",
    "        DA_scenarios.append(config.dataset[i]['DA_DK2'])\n",
    "        PW_scenarios.append(config.dataset[i]['windpower'])\n",
    "        BAL_scenarios.append(data[data['ID']==train_ID[i]].RT_DK2.values/config.DA_scaler)\n",
    "\n",
    "    # Problem\n",
    "    T = config.T\n",
    "    P_DIS_CH = config.P_DIS_CH\n",
    "    SOC_init = config.SOC_init\n",
    "    SOC_cap = config.SOC_cap\n",
    "    eff = config.eff\n",
    "\n",
    "    scenarios = train_ID\n",
    "    n_scenarios = len(scenarios)\n",
    "    prob = 1/n_scenarios\n",
    "    K = range(n_scenarios)\n",
    "\n",
    "    model = gp.Model(\"Stochastic model of Producers problem\")\n",
    "    model.Params.LogToConsole = 0\n",
    "    p_w = model.addVars(T, vtype=GRB.CONTINUOUS, lb=0, name=\"windpower\")\n",
    "    p_ch = model.addVars(T, vtype=GRB.CONTINUOUS, lb=0, name=\"BESS charge\")\n",
    "    p_dis = model.addVars(T, vtype=GRB.CONTINUOUS, lb=0, name=\"BESS discharge\")\n",
    "    SOC = model.addVars(T, vtype=GRB.CONTINUOUS, lb=0, name=\"BESS SOC\")\n",
    "    Delta = model.addVars(K, T, vtype=GRB.CONTINUOUS,\n",
    "                          lb=-GRB.INFINITY, name=\"Delta\")\n",
    "\n",
    "    model.setObjective(prob*gp.quicksum(DA_scenarios[k][t]*(\n",
    "        p_w[t]+p_dis[t]) + BAL_scenarios[k][t]*Delta[k, t] for t in T for k in K), sense=GRB.MAXIMIZE)\n",
    "    # Objective: Maximize expected profit from both DA and balancing market\n",
    "\n",
    "    c1 = model.addConstrs((p_w[t]+p_ch[t] <= config.PW_cap for t in T))\n",
    "    c2 = model.addConstrs(\n",
    "        (p_ch[t] <= P_DIS_CH for t in T), name=\"Upper ch\")\n",
    "    c3 = model.addConstrs(\n",
    "        (p_dis[t] <= P_DIS_CH for t in T), name=\"Upper dis\")\n",
    "    c4 = model.addConstr(\n",
    "        (SOC[0] == SOC_init + eff * p_ch[0] - 1/eff * p_dis[0]), name=\"SOC 1\")\n",
    "    c5 = model.addConstrs((SOC[t] == SOC[t-1] + eff * p_ch[t] -\n",
    "                           1/eff * p_dis[t] for t in range(1, len(T))), name=\"SOC t\")\n",
    "    c6 = model.addConstrs((SOC[t] <= SOC_cap for t in T), name=\"Upper SOC\")\n",
    "\n",
    "    c7 = model.addConstrs((Delta[k, t] == PW_scenarios[k][t] - (p_w[t]+p_ch[t])\n",
    "                          for k in K for t in T), name=\"Delta constraint\")\n",
    "\n",
    "    # Optimize\n",
    "    model.optimize()\n",
    "    if model.status == GRB.OPTIMAL:\n",
    "        print(\"Optimal\")\n",
    "        obj = model.ObjVal\n",
    "        print(obj)\n",
    "        p_w_res = np.array([p_w[t].x for t in T])\n",
    "        p_ch_res = np.array([p_ch[t].x for t in T])\n",
    "        p_dis_res = np.array([p_dis[t].x for t in T])\n",
    "        SOC_res = np.array([SOC[t].x for t in T])\n",
    "        Delta_res = []\n",
    "        for k in K:\n",
    "            Delta_res.append(np.array([Delta[k, t].x for t in T]))\n",
    "        res_stochastic = {'z': obj,\n",
    "                          'p_w': p_w_res,\n",
    "                          'pCH': p_ch_res,\n",
    "                          'pDIS': p_dis_res,\n",
    "                          'SOC': SOC_res,\n",
    "                          'Delta_res': Delta_res,\n",
    "                          'infeasibles': 0}\n",
    "    return res_stochastic"
   ]
  },
  {
   "cell_type": "code",
   "execution_count": 25,
   "metadata": {},
   "outputs": [
    {
     "name": "stdout",
     "output_type": "stream",
     "text": [
      "Optimal\n",
      "0.856194701206678\n"
     ]
    }
   ],
   "source": [
    "RT = pd.read_csv(\"RT_price.csv\")\n",
    "RT = RT.rename(columns={\"HourUTC\": \"timestamp\"})\n",
    "RT['timestamp'] = pd.to_datetime(RT['timestamp'])\n",
    "RT = RT.set_index(\"timestamp\", drop=True)\n",
    "RT = RT*7.45\n",
    "data['RT_DK2'] = RT.loc[data.index, 'RT_DK2']\n",
    "\n",
    "res = stochastic_traders(EQUAL1, train_ID, data)\n",
    "\n",
    "pch_sto = res['pCH']\n",
    "pdis_sto = res['pDIS']\n",
    "pw_sto = res['p_w']\n",
    "soc_sto = res['SOC']\n",
    "\n",
    "w_sto = np.hstack((pch_sto,pdis_sto,pw_sto,soc_sto))*Base_scaler\n",
    "w_stochastic = np.array([w_sto for i in range(len(test_ID))])\n",
    "infeasibles_sto = np.zeros(len(test_ID))\n",
    "infeasibles['Sto'] = infeasibles_sto\n",
    "w_prediction['Sto']=w_stochastic"
   ]
  },
  {
   "cell_type": "code",
   "execution_count": 26,
   "metadata": {},
   "outputs": [],
   "source": [
    "z_realised_stochastic = []\n",
    "loss_stochastic = []\n",
    "for idx in range(len(test_ID)):\n",
    "    # Calculate z_realised and loss for this sample\n",
    "    DA_true = EQUAL1.dataset[test_ID[idx]]['DA_DK2']\n",
    "    PW_true = EQUAL1.dataset[test_ID[idx]]['windpower']\n",
    "\n",
    "    z_realised_val = - np.sum(DA_true * (pw_sto + pdis_sto))*EQUAL1.scaler\n",
    "    z_realised_stochastic.append(z_realised_val)\n",
    "    loss_stochastic.append(\n",
    "        z_realised_val - EQUAL1.dataset[test_ID[idx]]['z']*EQUAL1.scaler)\n",
    "\n",
    "gen_loss_stochastic = np.mean(loss_stochastic)"
   ]
  },
  {
   "cell_type": "code",
   "execution_count": 27,
   "metadata": {},
   "outputs": [
    {
     "name": "stdout",
     "output_type": "stream",
     "text": [
      "SPO: 80.30 %\n",
      "LR: 67.68 %\n",
      "Ridge: 80.30 %\n",
      "DT: 95.96 %\n",
      "RF: 95.96 %\n",
      "Sto: 100.00 %\n"
     ]
    }
   ],
   "source": [
    "#Feasibility check:\n",
    "check_decision = \"pw_pch\"\n",
    "# model = 'SPO - Ridge - 2.5'\n",
    "# check_decision = \"pch\"\n",
    "i=0\n",
    "infeasible_prediction=traders_feasibility_check(EQUAL1,w_prediction,check_decision,test_ID)\n",
    "\n",
    "for model in infeasible_prediction.keys():\n",
    "    print(f\"{model}: {np.sum(infeasible_prediction[model])/len(infeasible_prediction[model])*100:.2f} %\")\n",
    "#Tilføj stochastics"
   ]
  },
  {
   "cell_type": "code",
   "execution_count": 31,
   "metadata": {},
   "outputs": [
    {
     "name": "stdout",
     "output_type": "stream",
     "text": [
      "SPO: 18068.066256195296\n",
      "LR: 5412.916026165789\n",
      "Ridge: 18068.066256195296\n",
      "DT: 41776.419966972695\n",
      "RF: 28430.276712437862\n",
      "Sto: -1416281.0042855006\n",
      "\n",
      "SPO: 14.917580411270519\n",
      "LR: 14.549312844272398\n",
      "Ridge: 14.917580411270519\n",
      "DT: 29.12275470944641\n",
      "RF: 20.16904889506016\n",
      "Sto: 155.93356504151095\n"
     ]
    }
   ],
   "source": [
    "Delta_tot = {}\n",
    "RT_tot = {}\n",
    "Balance_cost_tot = {}\n",
    "idx = 3\n",
    "\n",
    "# del w_prediction['Lasso']\n",
    "\n",
    "for model in w_prediction.keys():\n",
    "    Delta = []\n",
    "    RT = []\n",
    "    Balance_cost = []\n",
    "    for idx in range(len(test_ID)):\n",
    "        if infeasibles[model][idx]==0:\n",
    "            pch = w_prediction[model][idx][:24]\n",
    "            pw = w_prediction[model][idx][48:72]\n",
    "            PW_true = EQUAL1.dataset[test_ID[idx]]['windpower']*EQUAL1.base_scaler\n",
    "            RT_val = data[data['ID'] == test_ID[idx]].RT_DK2\n",
    "            RT.append(RT_val)\n",
    "            pDA_tot = pch+pw\n",
    "            delta = PW_true-pDA_tot\n",
    "            Delta.append(delta)\n",
    "            bal_cost = np.sum(RT_val*delta)\n",
    "            Balance_cost.append(bal_cost)\n",
    "        else:\n",
    "            Delta.append(np.zeros(24))\n",
    "            RT.append(np.zeros(24))\n",
    "            Balance_cost.append(0)\n",
    "    Delta_tot[model]=np.array(Delta)\n",
    "    RT_tot[model]=np.array(RT)\n",
    "    Balance_cost_tot[model]=np.array(Balance_cost)\n",
    "\n",
    "for model in Balance_cost_tot.keys():\n",
    "    print(f\"{model}: {np.mean(Balance_cost_tot[model])}\")\n",
    "\n",
    "print()\n",
    "for model in Delta_tot.keys():\n",
    "    print(f\"{model}: {np.mean(abs(Delta_tot[model]))}\")\n"
   ]
  },
  {
   "cell_type": "code",
   "execution_count": 32,
   "metadata": {},
   "outputs": [
    {
     "data": {
      "text/plain": [
       "<matplotlib.legend.Legend at 0x27dd527e9e0>"
      ]
     },
     "execution_count": 32,
     "metadata": {},
     "output_type": "execute_result"
    },
    {
     "data": {
      "image/png": "[encoded data removed]",
      "text/plain": [
       "<Figure size 640x480 with 1 Axes>"
      ]
     },
     "metadata": {},
     "output_type": "display_data"
    }
   ],
   "source": [
    "idx=2\n",
    "pDA = w_prediction['Sto'][idx][:24]+w_prediction['Sto'][idx][48:72]\n",
    "pReal = EQUAL1.dataset[test_ID[idx]]['windpower']*EQUAL1.base_scaler\n",
    "Delta = pReal - pDA\n",
    "\n",
    "plt.plot(pDA,label=\"DA\")\n",
    "plt.plot(pReal,label=\"PW\")\n",
    "plt.plot(Delta,label=\"Delta\")\n",
    "plt.legend()"
   ]
  },
  {
   "cell_type": "code",
   "execution_count": 34,
   "metadata": {},
   "outputs": [
    {
     "data": {
      "image/png": "[encoded data removed]",
      "text/plain": [
       "<Figure size 1000x400 with 1 Axes>"
      ]
     },
     "metadata": {},
     "output_type": "display_data"
    }
   ],
   "source": [
    "del Balance_cost_tot['Sto']\n",
    "del infeasibles['Sto']\n",
    "\n",
    "boxplot_spo_loss(Balance_cost_tot,infeasibles,False,True,(10,4),0.4)"
   ]
  },
  {
   "cell_type": "code",
   "execution_count": 32,
   "metadata": {},
   "outputs": [
    {
     "data": {
      "image/png": "[encoded data removed]",
      "text/plain": [
       "<Figure size 900x100 with 1 Axes>"
      ]
     },
     "metadata": {},
     "output_type": "display_data"
    }
   ],
   "source": []
  },
  {
   "cell_type": "code",
   "execution_count": null,
   "metadata": {},
   "outputs": [],
   "source": [
    "sample_loss['SPO'][6]"
   ]
  },
  {
   "cell_type": "code",
   "execution_count": null,
   "metadata": {},
   "outputs": [],
   "source": [
    "z_realised['SPO'][6]-z_test[6]*scaler"
   ]
  },
  {
   "cell_type": "code",
   "execution_count": null,
   "metadata": {},
   "outputs": [],
   "source": [
    "plt.plot(-res2['b_test_seq'][6][48:72]*Base_scaler)\n",
    "plt.plot(dataset[test_ID[6]]['windpower']*Base_scaler)"
   ]
  },
  {
   "cell_type": "code",
   "execution_count": null,
   "metadata": {},
   "outputs": [],
   "source": [
    "plt.plot(w_prediction['SPO'][6])\n",
    "plt.plot(w_prediction['Target'][6])"
   ]
  },
  {
   "cell_type": "code",
   "execution_count": null,
   "metadata": {},
   "outputs": [],
   "source": []
  },
  {
   "cell_type": "code",
   "execution_count": null,
   "metadata": {},
   "outputs": [],
   "source": [
    "res2['b_test_seq'][0][48:72]"
   ]
  },
  {
   "cell_type": "code",
   "execution_count": null,
   "metadata": {},
   "outputs": [],
   "source": [
    "i=3\n",
    "Oracle(res['predictions_spo']['SPO - Ridge - 0.5'][i],EQUAL1,EQUAL1.A,res2['b_test_seq'][i])"
   ]
  },
  {
   "cell_type": "code",
   "execution_count": 9,
   "metadata": {},
   "outputs": [],
   "source": [
    "Target_w_pred = w_prediction['Target']\n",
    "del w_prediction['Target']"
   ]
  },
  {
   "cell_type": "code",
   "execution_count": 10,
   "metadata": {},
   "outputs": [],
   "source": [
    "res = pd.read_pickle(\"tot_res_equal_pw_seq_trial.pkl\")\n",
    "gen_loss = res['gen_loss']\n",
    "w_prediction = res['w_prediction']\n",
    "prediction_spo = res['predictions_spo']\n",
    "prediction_seq = res['predictions_sequential']\n",
    "dual_prediction = res['dual_prediction']\n",
    "sample_loss = res['sample_loss']\n",
    "z_realised = res['z_realised']\n",
    "B = res['B']\n",
    "infeasibles = res['infeasibles']"
   ]
  },
  {
   "cell_type": "code",
   "execution_count": 11,
   "metadata": {},
   "outputs": [],
   "source": [
    "res2 = pd.read_pickle(\"ori_formulation_pw_seq_trail.pkl\")\n",
    "z_train = res2['z_train']\n",
    "z_test = res2['z_test']\n",
    "w_train = res2['w_train']\n",
    "w_test = res2['w_test']\n",
    "c_train = res2['c_train']\n",
    "c_test = res2['c_test']\n",
    "scaler = res2['scaler']\n",
    "DA_scaler = res2['DA_scaler']\n",
    "Base_scaler = res2['Base_scaler']\n",
    "b_test_seq = res2['b_test_seq']"
   ]
  },
  {
   "cell_type": "code",
   "execution_count": null,
   "metadata": {},
   "outputs": [],
   "source": [
    "i=16\n",
    "plt.plot(-b_test_seq[i][48:72])\n",
    "plt.plot(prediction_seq['LR_seq']['windpower'][i])"
   ]
  },
  {
   "cell_type": "code",
   "execution_count": null,
   "metadata": {},
   "outputs": [],
   "source": []
  },
  {
   "cell_type": "code",
   "execution_count": null,
   "metadata": {},
   "outputs": [],
   "source": []
  },
  {
   "cell_type": "code",
   "execution_count": null,
   "metadata": {},
   "outputs": [],
   "source": []
  },
  {
   "cell_type": "code",
   "execution_count": 62,
   "metadata": {},
   "outputs": [],
   "source": [
    "RT = pd.read_csv(\"RT_price.csv\")\n",
    "RT = RT.rename(columns={\"HourUTC\": \"timestamp\"})\n",
    "RT['timestamp'] = pd.to_datetime(RT['timestamp'])\n",
    "RT = RT.set_index(\"timestamp\", drop=True)\n",
    "data['RT_DK2'] = RT.loc[data.index, 'RT_DK2']\n",
    "\n",
    "Delta_tot = {}\n",
    "RT_tot = {}\n",
    "Balance_cost_tot = {}\n",
    "idx = 3\n",
    "\n",
    "for model in w_prediction.keys():\n",
    "    Delta = []\n",
    "    RT = []\n",
    "    Balance_cost = []\n",
    "    for idx in range(len(test_ID)):\n",
    "        if infeasibles[model][idx]==0:\n",
    "            pch = w_prediction[model][idx][:24]\n",
    "            pw = w_prediction[model][idx][48:72]\n",
    "            PW_true = EQUAL1.dataset[test_ID[idx]]['windpower']*EQUAL1.base_scaler\n",
    "            RT_val = data[data['ID'] == test_ID[idx]].RT_DK2\n",
    "            RT.append(RT_val)\n",
    "            pDA_tot = pch+pw\n",
    "            delta = PW_true-pDA_tot\n",
    "            Delta.append(delta)\n",
    "            bal_cost = np.sum(RT_val*delta)\n",
    "            Balance_cost.append(bal_cost)\n",
    "    Delta_tot[model]=np.array(Delta)\n",
    "    RT_tot[model]=np.array(RT)\n",
    "    Balance_cost_tot[model]=np.array(Balance_cost)"
   ]
  },
  {
   "cell_type": "code",
   "execution_count": null,
   "metadata": {},
   "outputs": [],
   "source": [
    "def RT_market_producers(config, data, test_ID, predictions_spo, predictions_sequential):\n",
    "\n",
    "    Delta_tot = {}\n",
    "    RT_tot = {}\n",
    "    Balance_cost_tot = {}\n",
    "\n",
    "    for model in predictions_spo.keys():\n",
    "        Delta = []\n",
    "        RT = []\n",
    "        Balance_cost = []\n",
    "\n",
    "        for i in range(len(test_ID)):\n",
    "            PW_pred = predictions_spo[model][i][2 *\n",
    "                                                24:3*24]/predictions_spo[model][i][24:2*24]\n",
    "            PW_true = config.dataset[test_ID[i]]['windpower']\n",
    "\n",
    "            Delta_val = (PW_true - PW_pred)*config.base_scaler\n",
    "            RT_val = data[data['ID'] == test_ID[i]].RT_DK2\n",
    "            Balance_cost_val = np.sum(Delta_val*RT_val)\n",
    "\n",
    "            Delta.append(Delta_val)\n",
    "            RT.append(RT_val)\n",
    "            Balance_cost.append(Balance_cost_val)\n",
    "\n",
    "        Delta_tot[model] = Delta\n",
    "        RT_tot[model] = RT\n",
    "        Balance_cost_tot[model] = Balance_cost\n",
    "\n",
    "    for model in predictions_sequential.keys():\n",
    "        Delta = []\n",
    "        RT = []\n",
    "        Balance_cost = []\n",
    "        for i in range(len(test_ID)):\n",
    "            PW_pred = predictions_sequential[model]['windpower'][i]\n",
    "            PW_true = config.dataset[test_ID[i]]['windpower']\n",
    "            Delta_val = (PW_true - PW_pred)*config.base_scaler\n",
    "            RT_val = data[data['ID'] == test_ID[i]].RT_DK2\n",
    "            Balance_cost_val = np.sum(Delta_val*RT_val)\n",
    "\n",
    "            Delta.append(Delta_val)\n",
    "            RT.append(RT_val)\n",
    "            Balance_cost.append(Balance_cost_val)\n",
    "\n",
    "        Delta_tot[model] = Delta\n",
    "        RT_tot[model] = RT\n",
    "        Balance_cost_tot[model] = Balance_cost\n",
    "\n",
    "    return Delta_tot, RT_tot, Balance_cost_tot"
   ]
  },
  {
   "cell_type": "code",
   "execution_count": null,
   "metadata": {},
   "outputs": [],
   "source": []
  },
  {
   "cell_type": "code",
   "execution_count": 23,
   "metadata": {},
   "outputs": [],
   "source": [
    "# # res = pd.read_pickle(\"Traders_Results_for_report\\\\tot_res_equal_pw_seq.pkl\")\n",
    "# gen_loss = res['gen_loss']\n",
    "# w_prediction = res['w_prediction']\n",
    "# prediction_spo = res['predictions_spo']\n",
    "# prediction_seq = res['predictions_sequential']\n",
    "# dual_prediction = res['dual_prediction']\n",
    "# sample_loss = res['sample_loss']\n",
    "# z_realised = res['z_realised']\n",
    "# B = res['B']\n",
    "# infeasibles = res['infeasibles']\n",
    "\n",
    "# # Define a mapping of old keys to new keys\n",
    "# key_mapping = {\n",
    "#     'SPO - Ridge - 0.5': 'SPO',\n",
    "#     'LR_seq': 'LR',\n",
    "#     'Ridge_seq': 'Ridge',\n",
    "#     'Lasso_seq': 'Lasso',\n",
    "#     'DT_seq': 'DT',\n",
    "#     'RF_seq': 'RF'\n",
    "# }\n",
    "\n",
    "# # Create a new dictionary with renamed keys\n",
    "# sample_loss = {key_mapping.get(k, k): v for k, v in sample_loss.items()}\n",
    "# infeasibles = {key_mapping.get(k, k): v for k, v in infeasibles.items()}\n",
    "\n",
    "# del sample_loss['Lasso']\n",
    "# del infeasibles['Lasso']\n",
    "\n",
    "# boxplot_spo_loss(sample_loss,infeasibles,False,True,(10,4),0.4,\"Plots\\eq_ori_gen_loss_pw_seq_no_outliers\")\n",
    "\n",
    "# # res2 = pd.read_pickle(\"Traders_Results_for_report\\\\ori_formulation_pw_seq.pkl\")\n",
    "# z_train = res2['z_train']\n",
    "# z_test = res2['z_test']\n",
    "# w_train = res2['w_train']\n",
    "# w_test = res2['w_test']\n",
    "# c_train = res2['c_train']\n",
    "# c_test = res2['c_test']\n",
    "# scaler = res2['scaler']\n",
    "# DA_scaler = res2['DA_scaler']\n",
    "# Base_scaler = res2['Base_scaler']"
   ]
  },
  {
   "cell_type": "code",
   "execution_count": null,
   "metadata": {},
   "outputs": [],
   "source": [
    "# plt.plot(prediction_seq['LR_seq']['windpower'][0])"
   ]
  },
  {
   "cell_type": "code",
   "execution_count": 39,
   "metadata": {},
   "outputs": [],
   "source": [
    "# DA_pred = prediction_seq['LR_seq']['DA_DK2'][0]\n",
    "# PW_pred = prediction_seq['LR_seq']['windpower'][0]\n",
    "\n",
    "# res = producers_problem_standard_form_equality(EQUAL1, DA_pred, PW_pred)"
   ]
  },
  {
   "cell_type": "code",
   "execution_count": null,
   "metadata": {},
   "outputs": [],
   "source": [
    "# # reduced_features = ['mean_wind_speed_DK2','DA_DK2_Lag','mean_temp_DK2']\n",
    "# dataset = dataset_creator(EQUAL1,data,IDS,reduced_features)\n",
    "\n",
    "# extract_train_data(EQUAL1,train_ID)\n",
    "# extract_test_data(EQUAL1,test_ID)"
   ]
  },
  {
   "cell_type": "markdown",
   "metadata": {},
   "source": [
    "Only DA uncertain"
   ]
  },
  {
   "cell_type": "code",
   "execution_count": null,
   "metadata": {},
   "outputs": [],
   "source": [
    "regu = ['Ridge',0.5,0.1]\n",
    "gen_loss, w_prediction, predictions_spo, predictions_sequential, dual_prediction, sample_loss, z_realised, B, infeasibles=spo_framework_v2(EQUAL1,data,IDS,train_ID,test_ID,reduced_features,True,regularisation=regu)\n",
    "\n",
    "boxplot_spo_loss(sample_loss,infeasibles)"
   ]
  },
  {
   "cell_type": "code",
   "execution_count": null,
   "metadata": {},
   "outputs": [],
   "source": [
    "#Feasibility check:\n",
    "check_decision = \"pw_pch\"\n",
    "# model = 'SPO - Ridge - 2.5'\n",
    "check_decision = \"pch\"\n",
    "i=0\n",
    "infeasible_prediction=traders_feasibility_check(EQUAL1,w_prediction,check_decision,test_ID)\n",
    "infeasible_prediction\n",
    "\n",
    "i=3\n",
    "plt.plot(w_prediction['SPO - Ridge - 0.5'][i],label=\"SPO\")\n",
    "plt.plot(w_prediction['RF_seq'][i],label=\"RF\")\n",
    "plt.plot(w_prediction['Target'][i],label=\"Target\")\n",
    "plt.legend()\n",
    "\n",
    "# Delta_tot, RT_tot, Balance_cost_tot = RT_market_producers(EQUAL1,data,test_ID,predictions_spo,predictions_sequential)\n",
    "# boxplot_spo_loss(Balance_cost_tot,infeasibles,False)"
   ]
  },
  {
   "cell_type": "markdown",
   "metadata": {},
   "source": [
    "PW from sequential model"
   ]
  },
  {
   "cell_type": "code",
   "execution_count": null,
   "metadata": {},
   "outputs": [],
   "source": [
    "predictions_sequential, mse_sequential = sequential_models_v2(\n",
    "    EQUAL1, ['windpower'], data, train_ID, test_ID, features, [0.5,0.1])\n",
    "\n",
    "for model_name in mse_sequential.keys():\n",
    "    print(f\"{model_name}: {np.mean(mse_sequential[model_name]['windpower'])}\")\n",
    "\n",
    "b_test_seq=np.array([EQUAL1.Vector_b(predictions_sequential['Ridge_seq']['windpower'][i]) for i in range(len(test_ID))])\n"
   ]
  },
  {
   "cell_type": "code",
   "execution_count": null,
   "metadata": {},
   "outputs": [],
   "source": [
    "EQUAL1 = Traders_equality_one_uncertainty(\"Equality_one_uncertainty_seq\", T, problem_parameters, n_var, n_constraints,variables,Target)\n",
    "data, IDS, train_ID, test_ID, features, scaler = load_data('DataV4_shifted.pkl',EQUAL1,0.8,problem_parameters,True)\n",
    "EQUAL1.b_test_seq = b_test_seq\n",
    "\n",
    "# regu = [None,2.5,0.1]\n",
    "regu = None\n",
    "gen_loss, w_prediction, predictions_spo, predictions_sequential, dual_prediction, sample_loss, z_realised, B, infeasibles=spo_framework_v2(EQUAL1,data,IDS,train_ID,test_ID,reduced_features,True,regularisation=regu)\n",
    "\n",
    "\n",
    "infeasibles\n",
    "\n",
    "boxplot_spo_loss(sample_loss,infeasibles)\n",
    "\n",
    "# del sample_loss['Lasso_seq']\n",
    "\n",
    "# boxplot_spo_loss(sample_loss,infeasibles,False)"
   ]
  },
  {
   "cell_type": "code",
   "execution_count": null,
   "metadata": {},
   "outputs": [],
   "source": [
    "(z_realised['SPO'][0]-z_realised['Target'][0])"
   ]
  },
  {
   "cell_type": "code",
   "execution_count": null,
   "metadata": {},
   "outputs": [],
   "source": [
    "sample_loss['SPO'][0]"
   ]
  },
  {
   "cell_type": "code",
   "execution_count": 21,
   "metadata": {},
   "outputs": [],
   "source": [
    "# Check z values are both in same size order"
   ]
  },
  {
   "cell_type": "markdown",
   "metadata": {},
   "source": [
    "Clustering for framework_v2"
   ]
  },
  {
   "cell_type": "code",
   "execution_count": null,
   "metadata": {},
   "outputs": [],
   "source": [
    "# reduced_features = ['DA_DK2_Q25', 'DA_DK2_Q50', 'windpower_mean']\n",
    "# cluster_target=['windpower','DA_DK2']\n",
    "\n",
    "cluster_target = ['windpower']\n",
    "\n",
    "method = \"Kmeans_SK\"\n",
    "# method = \"Kmeans_TS\"\n",
    "# method = \"Manual\"\n",
    "\n",
    "#Levels depending on target\n",
    "manual_levels = [data['windpower'].quantile(0.25),data['windpower'].quantile(0.50),data['windpower'].quantile(0.75)]\n",
    "manual_levels = [data['DA_DK2'].quantile(0.25),data['DA_DK2'].quantile(0.50),data['DA_DK2'].quantile(0.75)]\n",
    "\n",
    "#N clusters if kmeans\n",
    "n_clusters = 2\n",
    "\n",
    "plot = True\n",
    "\n",
    "regularisation = ['Ridge',0.5,0.1]\n",
    "\n",
    "clustering_res = Clustering_experiment(EQUAL1,data,IDS,train_ID,test_ID,reduced_features,regularisation,cluster_target,method,n_clusters,manual_levels,plot=True)"
   ]
  },
  {
   "cell_type": "code",
   "execution_count": null,
   "metadata": {},
   "outputs": [],
   "source": [
    "clustering_res['Cluster 2']['gen_loss']"
   ]
  },
  {
   "cell_type": "code",
   "execution_count": null,
   "metadata": {},
   "outputs": [],
   "source": [
    "# def spo_framework(config, data, IDS, train_ID, test_ID, plot_result, features, regularization=None):\n",
    "# return gen_loss_dict, w_preds, c_predictions, dual_preds, loss_dict, z_preds, B, count_infeasibles\n"
   ]
  },
  {
   "cell_type": "code",
   "execution_count": null,
   "metadata": {},
   "outputs": [],
   "source": [
    "# def spo_framework_v2(config, data, IDS, train_ID, test_ID, features, plot_res=False, regularisation=None)\n",
    "# return gen_loss, w_prediction, predictions_spo, predictions_sequential, dual_prediction, sample_loss, z_realised, B, infeasibles"
   ]
  },
  {
   "cell_type": "code",
   "execution_count": 26,
   "metadata": {},
   "outputs": [],
   "source": [
    "res = pd.read_pickle(\"Traders_CV results\\\\known_uncertainty\\\\v2\\\\SequentialPW.pkl\")"
   ]
  },
  {
   "cell_type": "code",
   "execution_count": null,
   "metadata": {},
   "outputs": [],
   "source": [
    "plt.plot(res['w_prediction']['SPO - Ridge - 2.5'][2]*EQUAL1.base_scaler)\n",
    "plt.plot(res['w_prediction']['RF_seq'][2])"
   ]
  },
  {
   "cell_type": "code",
   "execution_count": null,
   "metadata": {},
   "outputs": [],
   "source": [
    "data"
   ]
  },
  {
   "cell_type": "code",
   "execution_count": null,
   "metadata": {},
   "outputs": [],
   "source": [
    "i=19\n",
    "plt.plot(res['predictions_sequential']['RF_seq']['windpower'][i]*EQUAL1.base_scaler,label=\"RF\")\n",
    "plt.plot(res['predictions_sequential']['Ridge_seq']['windpower'][i]*EQUAL1.base_scaler,label=\"Ridge\")\n",
    "plt.plot(res['predictions_sequential']['LR_seq']['windpower'][i]*EQUAL1.base_scaler,label=\"LR\")\n",
    "plt.plot(EQUAL1.dataset[test_ID[i]]['windpower']*EQUAL1.base_scaler,label=\"True\")\n",
    "plt.legend()"
   ]
  },
  {
   "cell_type": "code",
   "execution_count": 120,
   "metadata": {},
   "outputs": [],
   "source": [
    "losses = res['sample_loss']\n",
    "infeasibles = res['infeasibles']"
   ]
  },
  {
   "cell_type": "code",
   "execution_count": null,
   "metadata": {},
   "outputs": [],
   "source": [
    "boxplot_spo_loss(losses,infeasibles)"
   ]
  },
  {
   "cell_type": "code",
   "execution_count": null,
   "metadata": {},
   "outputs": [],
   "source": [
    "res.keys()"
   ]
  },
  {
   "cell_type": "code",
   "execution_count": 25,
   "metadata": {},
   "outputs": [],
   "source": [
    "B_known=res['B']"
   ]
  },
  {
   "cell_type": "code",
   "execution_count": null,
   "metadata": {},
   "outputs": [],
   "source": []
  },
  {
   "cell_type": "code",
   "execution_count": null,
   "metadata": {},
   "outputs": [],
   "source": []
  },
  {
   "cell_type": "code",
   "execution_count": null,
   "metadata": {},
   "outputs": [],
   "source": []
  },
  {
   "cell_type": "code",
   "execution_count": null,
   "metadata": {},
   "outputs": [],
   "source": []
  },
  {
   "cell_type": "code",
   "execution_count": null,
   "metadata": {},
   "outputs": [],
   "source": []
  }
 ],
 "metadata": {
  "kernelspec": {
   "display_name": "Python 3",
   "language": "python",
   "name": "python3"
  },
  "language_info": {
   "codemirror_mode": {
    "name": "ipython",
    "version": 3
   },
   "file_extension": ".py",
   "mimetype": "text/x-python",
   "name": "python",
   "nbconvert_exporter": "python",
   "pygments_lexer": "ipython3",
   "version": "3.10.11"
  }
 },
 "nbformat": 4,
 "nbformat_minor": 2
}
